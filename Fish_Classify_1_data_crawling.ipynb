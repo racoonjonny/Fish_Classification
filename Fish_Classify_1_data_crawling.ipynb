{
  "nbformat": 4,
  "nbformat_minor": 0,
  "metadata": {
    "colab": {
      "name": "Fish_Classify_1_data_crawling.ipynb",
      "provenance": [],
      "authorship_tag": "ABX9TyO+Lvon5QqBn/4XHPpwenQM",
      "include_colab_link": true
    },
    "kernelspec": {
      "name": "python3",
      "display_name": "Python 3"
    },
    "language_info": {
      "name": "python"
    }
  },
  "cells": [
    {
      "cell_type": "markdown",
      "metadata": {
        "id": "view-in-github",
        "colab_type": "text"
      },
      "source": [
        "<a href=\"https://colab.research.google.com/github/racoonjonny/Fish_Classification/blob/main/Fish_Classify_1_data_crawling.ipynb\" target=\"_parent\"><img src=\"https://colab.research.google.com/assets/colab-badge.svg\" alt=\"Open In Colab\"/></a>"
      ]
    },
    {
      "cell_type": "code",
      "metadata": {
        "id": "jWULBiUmcZ45"
      },
      "source": [
        "# 출처 : https://mintpsyco.tistory.com/2\n",
        "\n",
        "# 참고 : https://hello-bryan.tistory.com/194\n",
        "\n",
        "import threading\n",
        "from selenium import webdriver\n",
        "from selenium.webdriver.common.keys import Keys\n",
        "import time\n",
        "import urllib.request\n",
        "import os\n",
        "\n",
        "\n",
        "# 찾고자 하는 키워드\n",
        "search = \"crucian\"\n",
        "\n",
        "# 해당 어종 폴더 만들기\n",
        "directory = './{}_image'.format(search)\n",
        "os.makedirs(directory)\n",
        "\n",
        "# chrome driver 실행하고 구글이미지 페이지 열기\n",
        "driver = webdriver.Chrome('C:/chromedriver.exe')\n",
        "driver.get(\"https://www.google.co.kr/imghp?hl=ko&tab=wi&authuser=0&ogbl\")\n",
        "\n",
        "\n",
        "elem = driver.find_element_by_name(\"q\") # 검색창\n",
        "elem.send_keys(search) # 검색창에 키워드 입력\n",
        "elem.send_keys(Keys.RETURN) # Enter 키 입력\n",
        "\n",
        "SCROLL_PAUSE_TIME = 3\n",
        "# Get scroll height\n",
        "last_height = driver.execute_script(\"return document.body.scrollHeight\") # 스크롤 높이 가져옴\n",
        "SAVE_FLAG = True\n",
        "\n",
        "\n",
        "while True: #검색 결과들을 스크롤해서 미리 로딩해둠.\n",
        "    # Scroll down to bottom\n",
        "    driver.execute_script(\"window.scrollTo(0, document.body.scrollHeight);\") \n",
        "    # Wait to load page\n",
        "    time.sleep(SCROLL_PAUSE_TIME)\n",
        "    # Calculate new scroll height and compare with last scroll height\n",
        "    new_height = driver.execute_script(\"return document.body.scrollHeight\")\n",
        "    if new_height == last_height:\n",
        "        try:\n",
        "            driver.find_element_by_css_selector(\".mye4qd\").click() # 검색결과 더 보기 버튼\n",
        "        except:\n",
        "            break\n",
        "    last_height = new_height\n",
        "\n",
        "images = driver.find_elements_by_css_selector(\".rg_i.Q4LuWd\") # 페이지에 나와있는 전체 이미지들이 선택됨\n",
        "\n",
        "print('이미지 개수 : ',len(images))\n",
        "# def timeout(limit_time): #timeout\n",
        "#     start = time.time()\n",
        "#     while True:\n",
        "#         if time.time() - start > limit_time or SAVE_FLAG:\n",
        "#             raise Exception('timeout. or image saved.')\n",
        "\n",
        "count = 0\n",
        "for image in images:\n",
        "    try:\n",
        "        image.click()\n",
        "        time.sleep(5)\n",
        "        #이미지의 XPath 를 붙여넣기 해준다. >> F12 를 눌러서 페이지 소스의 Element에서 찾아보면됨.\n",
        "        imgUrl = driver.find_element_by_xpath('/html/body/div[2]/c-wiz/div[3]/div[2]/div[3]/div/div/div[3]/div[2]/c-wiz/div/div[1]/div[1]/div[2]/div/a/img').get_attribute(\"src\")\n",
        "        urllib.request.urlretrieve(imgUrl, directory + \"/\"+ search + \"_{0:04}\".format(count) + \".jpg\") #저장할 이미지의 경로 지정\n",
        "        print('Save images : ', \"images/\"+ search + \"_{0:04}\".format(count) + \".jpg\")\n",
        "\n",
        "        count += 1\n",
        "    \n",
        "    except:\n",
        "        pass\n",
        "\n",
        "print('driver end. Total images : ', count)\n",
        "driver.close()"
      ],
      "execution_count": null,
      "outputs": []
    }
  ]
}